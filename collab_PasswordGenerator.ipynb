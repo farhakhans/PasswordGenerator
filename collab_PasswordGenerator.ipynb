{
  "nbformat": 4,
  "nbformat_minor": 0,
  "metadata": {
    "colab": {
      "provenance": [],
      "authorship_tag": "ABX9TyMNNxKO14tBHQGdx4L0UiLM",
      "include_colab_link": true
    },
    "kernelspec": {
      "name": "python3",
      "display_name": "Python 3"
    },
    "language_info": {
      "name": "python"
    }
  },
  "cells": [
    {
      "cell_type": "markdown",
      "metadata": {
        "id": "view-in-github",
        "colab_type": "text"
      },
      "source": [
        "<a href=\"https://colab.research.google.com/github/farhakhans/PasswordGenerator/blob/main/collab_PasswordGenerator.ipynb\" target=\"_parent\"><img src=\"https://colab.research.google.com/assets/colab-badge.svg\" alt=\"Open In Colab\"/></a>"
      ]
    },
    {
      "cell_type": "code",
      "execution_count": 17,
      "metadata": {
        "colab": {
          "base_uri": "https://localhost:8080/",
          "height": 64
        },
        "id": "vpfIhBLCuqFb",
        "outputId": "84b1ded5-5ac9-41d1-e346-13dba805a7ba"
      },
      "outputs": [
        {
          "output_type": "display_data",
          "data": {
            "text/plain": [
              "<IPython.core.display.HTML object>"
            ],
            "text/html": [
              "<h2 style='color:green; text-align:center;'>Password Strength: Strong</h2>"
            ]
          },
          "metadata": {}
        }
      ],
      "source": [
        "import time\n",
        "import re\n",
        "from IPython.display import display, HTML, clear_output\n",
        "\n",
        "def animate_text(text, color):\n",
        "    for _ in range(3):\n",
        "        clear_output(wait=True)\n",
        "        display(HTML(f\"\"\"<h2 style='color:{color}; text-align:center;'>{text}</h2>\"\"\"))\n",
        "        time.sleep(0.5)\n",
        "        clear_output(wait=True)\n",
        "        time.sleep(0.5)\n",
        "    display(HTML(f\"\"\"<h2 style='color:{color}; text-align:center;'>{text}</h2>\"\"\"))\n",
        "\n",
        "def check_password_strength(password):\n",
        "    strength = 0\n",
        "    remarks = \"Weak\"\n",
        "    color = \"red\"\n",
        "    errors = []\n",
        "\n",
        "    if len(password) >= 8:\n",
        "        strength += 1\n",
        "    else:\n",
        "        errors.append(\"⚠ Password must be at least 8 characters long.\")\n",
        "\n",
        "    if re.search(r\"[A-Z]\", password):\n",
        "        strength += 1\n",
        "    else:\n",
        "        errors.append(\"⚠ Include at least one uppercase letter (A-Z).\")\n",
        "\n",
        "    if re.search(r\"[a-z]\", password):\n",
        "        strength += 1\n",
        "    else:\n",
        "        errors.append(\"⚠ Include at least one lowercase letter (a-z).\")\n",
        "\n",
        "    if re.search(r\"\\d\", password):\n",
        "        strength += 1\n",
        "    else:\n",
        "        errors.append(\"⚠ Include at least one number (0-9).\")\n",
        "\n",
        "    if re.search(r\"[!@#$%^&*(),.?\\\":{}|<>]\", password):\n",
        "        strength += 1\n",
        "    else:\n",
        "        errors.append(\"⚠ Include at least one special character (!@#$%^&*).\")\n",
        "\n",
        "    if strength == 1 or strength == 2:\n",
        "        remarks = \"Weak\"\n",
        "        color = \"red\"\n",
        "    elif strength == 3:\n",
        "        remarks = \"Medium\"\n",
        "        color = \"orange\"\n",
        "    elif strength >= 4:\n",
        "        remarks = \"Strong\"\n",
        "        color = \"green\"\n",
        "\n",
        "    return remarks, color, errors\n",
        "\n",
        "password = input(\"Enter your password: \")\n",
        "confirm_password = input(\"Confirm your password: \")\n",
        "\n",
        "if password == confirm_password:\n",
        "    strength, color, errors = check_password_strength(password)\n",
        "    animate_text(f\"Password Strength: {strength}\", color)\n",
        "\n",
        "    if errors:\n",
        "        for error in errors:\n",
        "            print(error)\n",
        "else:\n",
        "    animate_text(\"❌ Passwords do not match!\", \"red\")\n"
      ]
    }
  ]
}